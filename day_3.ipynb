{
  "nbformat": 4,
  "nbformat_minor": 0,
  "metadata": {
    "colab": {
      "provenance": []
    },
    "kernelspec": {
      "name": "python3",
      "display_name": "Python 3"
    },
    "language_info": {
      "name": "python"
    }
  },
  "cells": [
    {
      "cell_type": "code",
      "execution_count": null,
      "metadata": {
        "colab": {
          "base_uri": "https://localhost:8080/"
        },
        "id": "PMoRCC8aEvOv",
        "outputId": "87b8f5a6-9dfa-4ede-a401-161a08ef1e27"
      },
      "outputs": [
        {
          "output_type": "stream",
          "name": "stdout",
          "text": [
            "Addition: 13\n",
            "Subtraction: 7\n",
            "multiplication: 30\n",
            "Division 3.3333333333333335\n",
            "Floor Division 3\n",
            "modulus 1\n",
            "Exponent: 1000\n"
          ]
        }
      ],
      "source": [
        "a = 10\n",
        "b = 3\n",
        "print(\"Addition:\",a+b)\n",
        "print(\"Subtraction:\",a-b)\n",
        "print(\"multiplication:\",a*b)\n",
        "print(\"Division\",a/b)\n",
        "print(\"Floor Division\",a//b)\n",
        "print(\"modulus\",a%b)\n",
        "print(\"Exponent:\",a**b)"
      ]
    },
    {
      "cell_type": "code",
      "source": [
        "x = 5\n",
        "y = 8\n",
        "print(\"x==y:\",x==y)\n",
        "print(\"x!=y:\",x!=y)\n",
        "print(\"x>y:\",x>y)\n",
        "print(\"x<y:\",x<y)\n",
        "print(\"x>=y:\",x>=y)\n",
        "print(\"x<=y:\",x<=y)"
      ],
      "metadata": {
        "colab": {
          "base_uri": "https://localhost:8080/"
        },
        "id": "VnhNE_N0HWFR",
        "outputId": "3352d4ce-9974-4405-89d4-12f5be29adb9"
      },
      "execution_count": null,
      "outputs": [
        {
          "output_type": "stream",
          "name": "stdout",
          "text": [
            "x==y: False\n",
            "x!=y: True\n",
            "x>y: False\n",
            "x<y: True\n",
            "x>=y: False\n",
            "x<=y: True\n"
          ]
        }
      ]
    },
    {
      "cell_type": "code",
      "source": [
        "p=True\n",
        "q=False\n",
        "print(\"p and q:\",p and q)\n",
        "print(\"p or q:\",p or q)\n",
        "print(\"not p:\",not p)"
      ],
      "metadata": {
        "colab": {
          "base_uri": "https://localhost:8080/"
        },
        "id": "sy8WXw8YJnhj",
        "outputId": "d2d67e8a-cde0-42b7-9735-425f7209f707"
      },
      "execution_count": null,
      "outputs": [
        {
          "output_type": "stream",
          "name": "stdout",
          "text": [
            "p and q: False\n",
            "p or q: True\n",
            "not p: False\n"
          ]
        }
      ]
    },
    {
      "cell_type": "code",
      "source": [
        "m=5\n",
        "n=3\n",
        "print(\"m & n:\",m & n)\n",
        "print(\"m|n:\",m|n)\n",
        "print(\"m^n:\",m^n)\n",
        "print(\"~m:\",~m)\n",
        "print(\"m<<1:\",m<<1)\n",
        "print(\"m>>1:\",m>>1)"
      ],
      "metadata": {
        "colab": {
          "base_uri": "https://localhost:8080/"
        },
        "id": "hHouVTnYMDC7",
        "outputId": "06179087-0e48-4f02-caf9-e0a4ffc18da7"
      },
      "execution_count": null,
      "outputs": [
        {
          "output_type": "stream",
          "name": "stdout",
          "text": [
            "m & n: 1\n",
            "m|n: 7\n",
            "m^n: 6\n",
            "~m: -6\n",
            "m<<1: 10\n",
            "m>>1: 2\n"
          ]
        }
      ]
    },
    {
      "cell_type": "code",
      "source": [
        "num=10\n",
        "num+=5\n",
        "print(\"After+=:\",num)\n",
        "num-=3\n",
        "print(\"After-=:\",num)\n",
        "num*=2\n",
        "print(\"After*=:\",num)\n",
        "num/=4\n",
        "print(\"After/=:\",num)\n",
        "\n"
      ],
      "metadata": {
        "id": "3uTY4XsjOOkr",
        "colab": {
          "base_uri": "https://localhost:8080/"
        },
        "outputId": "c95171ad-5bfb-4de9-f79d-0452d6db4672"
      },
      "execution_count": null,
      "outputs": [
        {
          "output_type": "stream",
          "name": "stdout",
          "text": [
            "After+=: 15\n",
            "After-=: 12\n",
            "After*=: 24\n",
            "After/=: 6.0\n"
          ]
        }
      ]
    },
    {
      "cell_type": "markdown",
      "source": [],
      "metadata": {
        "id": "0nx_wiiKkw-w"
      }
    },
    {
      "cell_type": "code",
      "source": [
        "p = True\n",
        "q = False\n",
        "print(\"p and q:\",p and q)\n",
        "print(\"p or q:\",p or q)\n",
        "print(\"not p:\",not p)"
      ],
      "metadata": {
        "colab": {
          "base_uri": "https://localhost:8080/"
        },
        "id": "NVkDP-zdgvnH",
        "outputId": "84afc571-488d-4485-b47b-3e3d72c7a1ef"
      },
      "execution_count": null,
      "outputs": [
        {
          "output_type": "stream",
          "name": "stdout",
          "text": [
            "p and q: False\n",
            "p or q: True\n",
            "not p: False\n"
          ]
        }
      ]
    },
    {
      "cell_type": "code",
      "source": [],
      "metadata": {
        "id": "qiVcaiT8h9Gp"
      },
      "execution_count": null,
      "outputs": []
    },
    {
      "cell_type": "code",
      "source": [
        "fruits= [\"apple\",\"banana\",\"cherry\"]\n",
        "print(\"'banana'in fruit:\",\"banana\"in fruits)\n",
        "print(\"'mango'not in fruit:\",\"mango\"not in fruits)"
      ],
      "metadata": {
        "colab": {
          "base_uri": "https://localhost:8080/"
        },
        "id": "SnfwtY7PdyUb",
        "outputId": "ae6dabb0-1947-4b68-8e3f-1933b306a8ec"
      },
      "execution_count": null,
      "outputs": [
        {
          "output_type": "stream",
          "name": "stdout",
          "text": [
            "'banana'in fruit: True\n",
            "'mango'not in fruit: True\n"
          ]
        }
      ]
    },
    {
      "cell_type": "code",
      "source": [
        "a=10\n",
        "b=3\n",
        "print(\"addition:\",a+b)\n",
        "print(\"subtraction:\",a-b)\n",
        "print(\"multiplication:\",a*b)\n",
        "print(\"division\",a/b)\n",
        "print(\"floor division\",a//b)\n",
        "print(\"modulus\",a%b)\n",
        "print(\"exponent:\",a**b)"
      ],
      "metadata": {
        "colab": {
          "base_uri": "https://localhost:8080/"
        },
        "id": "4-tUx-Tvh_7P",
        "outputId": "35eeab19-a91e-4ba8-9ab8-63ad5f67a93e"
      },
      "execution_count": null,
      "outputs": [
        {
          "output_type": "stream",
          "name": "stdout",
          "text": [
            "addition: 13\n",
            "subtraction: 7\n",
            "multiplication: 30\n",
            "division 3.3333333333333335\n",
            "floor division 3\n",
            "modulus 1\n",
            "exponent: 1000\n"
          ]
        }
      ]
    },
    {
      "cell_type": "code",
      "source": [
        "x=14\n",
        "y=15\n",
        "print(\"x==y:\",x==y)\n",
        "print(\"x!=y:\",x!=y)\n",
        "print(\"x>y:\",x>y)\n",
        "print(\"x<=y:\",x<=y)\n",
        "print(\"x>=Y:\",x>=y)\n",
        "print(\"x<=y:\",x<=y)"
      ],
      "metadata": {
        "colab": {
          "base_uri": "https://localhost:8080/"
        },
        "id": "LVFCtvSvjJ5m",
        "outputId": "ecb958e7-f4b0-4d24-9a47-b8c8f04374a6"
      },
      "execution_count": null,
      "outputs": [
        {
          "output_type": "stream",
          "name": "stdout",
          "text": [
            "x==y: False\n",
            "x!=y: True\n",
            "x>y: False\n",
            "x<=y: True\n",
            "x>=Y: False\n",
            "x<=y: True\n"
          ]
        }
      ]
    }
  ]
}