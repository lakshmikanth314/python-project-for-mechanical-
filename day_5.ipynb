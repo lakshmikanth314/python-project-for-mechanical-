{
  "nbformat": 4,
  "nbformat_minor": 0,
  "metadata": {
    "colab": {
      "provenance": []
    },
    "kernelspec": {
      "name": "python3",
      "display_name": "Python 3"
    },
    "language_info": {
      "name": "python"
    }
  },
  "cells": [
    {
      "cell_type": "code",
      "execution_count": null,
      "metadata": {
        "colab": {
          "base_uri": "https://localhost:8080/"
        },
        "id": "PIevSDV9F2sC",
        "outputId": "162e5df4-eb0d-40e0-cdb0-92a9489b358e"
      },
      "outputs": [
        {
          "output_type": "stream",
          "name": "stdout",
          "text": [
            "Bob\n",
            "{'name': 'Bob', 'age': 20, 'marks': 90}\n"
          ]
        }
      ],
      "source": [
        "student = {\"name\":\"Bob\",\"age\":20,\"marks\":85}\n",
        "print(student[\"name\"])\n",
        "student[\"marks\"]=90\n",
        "print(student)"
      ]
    },
    {
      "cell_type": "code",
      "source": [
        "for _ in range (1,6):\n",
        "    print(_)"
      ],
      "metadata": {
        "colab": {
          "base_uri": "https://localhost:8080/"
        },
        "id": "ZcQhHzAuHgAv",
        "outputId": "936bd6df-9c33-4475-bda3-5988517c320b"
      },
      "execution_count": null,
      "outputs": [
        {
          "output_type": "stream",
          "name": "stdout",
          "text": [
            "1\n",
            "2\n",
            "3\n",
            "4\n",
            "5\n"
          ]
        }
      ]
    },
    {
      "cell_type": "code",
      "source": [
        "def greet(name):\n",
        "  return f\"Hello,{name}!\"\n",
        "print(greet(\"alice\"))"
      ],
      "metadata": {
        "colab": {
          "base_uri": "https://localhost:8080/"
        },
        "id": "UvKvCPcIH8o1",
        "outputId": "6c888aa0-d4b3-474a-a27d-c95f6ebf8059"
      },
      "execution_count": null,
      "outputs": [
        {
          "output_type": "stream",
          "name": "stdout",
          "text": [
            "Hello,alice!\n"
          ]
        }
      ]
    },
    {
      "cell_type": "code",
      "source": [
        "name = input(\"enter your name:\")\n",
        "age = int(input(\"enter your age:\"))\n",
        "print(\"Hello\",name,\"how old are you\",age)"
      ],
      "metadata": {
        "colab": {
          "base_uri": "https://localhost:8080/"
        },
        "id": "aSwnvo2UI6pU",
        "outputId": "e6a08ca2-8fa4-4e4b-b158-c9ed8179ba47"
      },
      "execution_count": null,
      "outputs": [
        {
          "output_type": "stream",
          "name": "stdout",
          "text": [
            "enter your name:deva\n",
            "enter your age:20\n",
            "Hello deva how old are you 20\n"
          ]
        }
      ]
    },
    {
      "cell_type": "code",
      "source": [
        "def torque(force,radius):\n",
        "  return force*radius\n",
        "print(\"torque:\",torque(50,0.3),\"N.m\")"
      ],
      "metadata": {
        "colab": {
          "base_uri": "https://localhost:8080/"
        },
        "id": "mJMtXp4EKD26",
        "outputId": "24f0c3f0-6352-4795-c075-f2bdcd898d0e"
      },
      "execution_count": null,
      "outputs": [
        {
          "output_type": "stream",
          "name": "stdout",
          "text": [
            "torque: 15.0 N.m\n"
          ]
        }
      ]
    },
    {
      "cell_type": "code",
      "source": [
        "marks = int(input(\"enter marks:\"))\n",
        "if marks >= 90:\n",
        "   print(\"grade A\")\n",
        "elif marks >= 60:\n",
        "  print(\"grade B\")\n",
        "else:\n",
        "  print(\"Grade C\")"
      ],
      "metadata": {
        "colab": {
          "base_uri": "https://localhost:8080/"
        },
        "id": "vMqB70y4LhWJ",
        "outputId": "1e43bb0b-d606-44ed-f0a1-fc8af278a7ed"
      },
      "execution_count": null,
      "outputs": [
        {
          "output_type": "stream",
          "name": "stdout",
          "text": [
            "enter marks:50\n",
            "Grade C\n"
          ]
        }
      ]
    },
    {
      "cell_type": "code",
      "source": [
        "text =\"python in fun\"\n",
        "print(text.upper())"
      ],
      "metadata": {
        "colab": {
          "base_uri": "https://localhost:8080/"
        },
        "id": "WI5c4bawO-nn",
        "outputId": "00194dca-83a6-45b2-8ba3-a81866882741"
      },
      "execution_count": null,
      "outputs": [
        {
          "output_type": "stream",
          "name": "stdout",
          "text": [
            "PYTHON IN FUN\n"
          ]
        }
      ]
    },
    {
      "cell_type": "code",
      "source": [
        "fruits = [\"apple\",\"banana\",\"cherry\"]\n",
        "fruits.append(\"orange\")"
      ],
      "metadata": {
        "id": "1ECxxT2cPlwX"
      },
      "execution_count": null,
      "outputs": []
    },
    {
      "cell_type": "code",
      "source": [
        "tools = {\"wrench\",\"hammer\",\"screwdriver\",\"hammer\"}\n",
        "print(\"unique tool:\",tools)"
      ],
      "metadata": {
        "colab": {
          "base_uri": "https://localhost:8080/"
        },
        "id": "m0K4mOC9QiSW",
        "outputId": "f513112f-ea1e-4711-e81e-78d476083f46"
      },
      "execution_count": null,
      "outputs": [
        {
          "output_type": "stream",
          "name": "stdout",
          "text": [
            "unique tool: {'screwdriver', 'hammer', 'wrench'}\n"
          ]
        }
      ]
    },
    {
      "cell_type": "code",
      "source": [
        "def slab_volume(length,width,thickness):\n",
        "  return length*width*thickness\n",
        "print(\"volume:\",slab_volume(5,4,0.15),\"m^3\")"
      ],
      "metadata": {
        "colab": {
          "base_uri": "https://localhost:8080/"
        },
        "id": "hzd_4eD3RpTe",
        "outputId": "507f0182-500a-48fa-95e5-f1b2329793ec"
      },
      "execution_count": null,
      "outputs": [
        {
          "output_type": "stream",
          "name": "stdout",
          "text": [
            "volume: 3.0 m^3\n"
          ]
        }
      ]
    },
    {
      "cell_type": "markdown",
      "source": [],
      "metadata": {
        "id": "sxUomOUzUODV"
      }
    },
    {
      "cell_type": "code",
      "source": [],
      "metadata": {
        "id": "seWIzgpIUOrc"
      },
      "execution_count": null,
      "outputs": []
    },
    {
      "cell_type": "code",
      "source": [
        "machine = {\"name\":\"lathe\",\"power\":5.5,\"unit\":\"kw\"}\n",
        "print(\"machine:\",machine[\"name\"])\n",
        "print(\"power:\",machine[\"power\"],machine[\"unit\"])"
      ],
      "metadata": {
        "colab": {
          "base_uri": "https://localhost:8080/"
        },
        "id": "StxRSdWPNCqy",
        "outputId": "f25d92ec-a131-4266-f892-ab1788350f12"
      },
      "execution_count": null,
      "outputs": [
        {
          "output_type": "stream",
          "name": "stdout",
          "text": [
            "machine: lathe\n",
            "power: 5.5 kw\n"
          ]
        }
      ]
    },
    {
      "cell_type": "code",
      "source": [
        "project = {\"name\":\"bridge\",\"length\":200,\"status\":\"ongoing\"}\n",
        "print(\"project:\",project[\"name\"])\n",
        "print(\"length:\",project[\"length\"],\"meters\")"
      ],
      "metadata": {
        "colab": {
          "base_uri": "https://localhost:8080/"
        },
        "id": "YRW9lJ_EUQz7",
        "outputId": "1408c571-24d5-4bc1-bce2-98313f668812"
      },
      "execution_count": null,
      "outputs": [
        {
          "output_type": "stream",
          "name": "stdout",
          "text": [
            "project: bridge\n",
            "length: 200 meters\n"
          ]
        }
      ]
    },
    {
      "cell_type": "code",
      "source": [
        "bases = [10,20,20]\n",
        "heights = [5,8,12]\n",
        "for base,height in zip(bases,heights):\n",
        "  area = 0.5*base*height\n",
        "  print(f\"area with base{base} and height{height}:{area}m^2\")"
      ],
      "metadata": {
        "colab": {
          "base_uri": "https://localhost:8080/"
        },
        "id": "C02ZPCDwoSYR",
        "outputId": "0ef37b75-9f35-4fa5-8768-0dfd4a429fe7"
      },
      "execution_count": null,
      "outputs": [
        {
          "output_type": "stream",
          "name": "stdout",
          "text": [
            "area with base10 and height5:25.0m^2\n",
            "area with base20 and height8:80.0m^2\n",
            "area with base20 and height12:120.0m^2\n"
          ]
        }
      ]
    },
    {
      "cell_type": "code",
      "source": [
        "def voltage(current,resistance):\n",
        "  return current*resistance\n",
        "print(\"voltage:\",voltage(2.5,10),\"volts\")"
      ],
      "metadata": {
        "colab": {
          "base_uri": "https://localhost:8080/"
        },
        "id": "tIFf4j1Jqzmp",
        "outputId": "bbd45668-0ea1-4401-d7f5-71090bd6e1ce"
      },
      "execution_count": null,
      "outputs": [
        {
          "output_type": "stream",
          "name": "stdout",
          "text": [
            "voltage: 25.0 volts\n"
          ]
        }
      ]
    },
    {
      "cell_type": "code",
      "source": [
        "components = {\"resistor\",\"capacitor\",\"inductor\",\"resistor\"}\n",
        "print(\"uniquecomponents:\",components)"
      ],
      "metadata": {
        "colab": {
          "base_uri": "https://localhost:8080/"
        },
        "id": "EZrjmDgVseM3",
        "outputId": "05efce67-db8e-46eb-d238-badd3a66b342"
      },
      "execution_count": null,
      "outputs": [
        {
          "output_type": "stream",
          "name": "stdout",
          "text": [
            "uniquecomponents: {'resistor', 'capacitor', 'inductor'}\n"
          ]
        }
      ]
    },
    {
      "cell_type": "code",
      "source": [],
      "metadata": {
        "id": "YXkeYTx7uKaO"
      },
      "execution_count": null,
      "outputs": []
    },
    {
      "cell_type": "markdown",
      "source": [],
      "metadata": {
        "id": "-B4yaIcqN4OA"
      }
    },
    {
      "cell_type": "code",
      "metadata": {
        "colab": {
          "base_uri": "https://localhost:8080/"
        },
        "id": "68879d8f",
        "outputId": "700a0043-651a-4244-f10e-4c9703e25635"
      },
      "source": [
        "name = input(\"Enter your name: \")\n",
        "age = input(\"Enter your age: \")\n",
        "\n",
        "print(f\"Hello, {name}! You are {age} years old.\")"
      ],
      "execution_count": null,
      "outputs": [
        {
          "output_type": "stream",
          "name": "stdout",
          "text": [
            "Enter your name: lknnc\n",
            "Enter your age: mknc\n",
            "Hello, lknnc! You are mknc years old.\n"
          ]
        }
      ]
    },
    {
      "cell_type": "code",
      "source": [
        "from re import I\n",
        "voltage = [230,120,12]\n",
        "current = [5,10,0.5]\n",
        "for v, i in zip(voltage, current):\n",
        "  power = v*I\n",
        "  print(f\"power for {v}v and {i}A:{power}watts\")"
      ],
      "metadata": {
        "colab": {
          "base_uri": "https://localhost:8080/"
        },
        "id": "u1uCmNaquLw-",
        "outputId": "f9b46c40-de9e-4a01-fea4-04d432ed2873"
      },
      "execution_count": null,
      "outputs": [
        {
          "output_type": "stream",
          "name": "stdout",
          "text": [
            "power for 230v and 5A:460watts\n",
            "power for 120v and 10A:240watts\n",
            "power for 12v and 0.5A:24watts\n"
          ]
        }
      ]
    },
    {
      "cell_type": "code",
      "metadata": {
        "colab": {
          "base_uri": "https://localhost:8080/"
        },
        "id": "fe08afa5",
        "outputId": "7fb92052-66c3-44d3-fb39-68f1de661792"
      },
      "source": [
        "for i in range(1, 6):\n",
        "    print(i)"
      ],
      "execution_count": null,
      "outputs": [
        {
          "output_type": "stream",
          "name": "stdout",
          "text": [
            "1\n",
            "2\n",
            "3\n",
            "4\n",
            "5\n"
          ]
        }
      ]
    },
    {
      "cell_type": "code",
      "metadata": {
        "colab": {
          "base_uri": "https://localhost:8080/"
        },
        "id": "3ecd03cd",
        "outputId": "02b6506f-f310-41b6-ee15-90089b69caa1"
      },
      "source": [
        "# This program calculates the average of a list of numbers\n",
        "\n",
        "# Define a list of numbers\n",
        "numbers = [10, 20, 30, 40, 50, 60, 70, 80, 90, 100]\n",
        "\n",
        "# Initialize variables for sum and count\n",
        "total_sum = 0\n",
        "count = 0\n",
        "\n",
        "# Iterate through the list and calculate the sum\n",
        "for number in numbers:\n",
        "  total_sum += number\n",
        "  count += 1\n",
        "\n",
        "# Calculate the average\n",
        "if count > 0:\n",
        "  average = total_sum / count\n",
        "  # Print the result\n",
        "  print(f\"The list of numbers is: {numbers}\")\n",
        "  print(f\"The sum of the numbers is: {total_sum}\")\n",
        "  print(f\"The average of the numbers is: {average}\")\n",
        "else:\n",
        "  print(\"The list is empty, cannot calculate the average.\")"
      ],
      "execution_count": null,
      "outputs": [
        {
          "output_type": "stream",
          "name": "stdout",
          "text": [
            "The list of numbers is: [10, 20, 30, 40, 50, 60, 70, 80, 90, 100]\n",
            "The sum of the numbers is: 550\n",
            "The average of the numbers is: 55.0\n"
          ]
        }
      ]
    }
  ]
}