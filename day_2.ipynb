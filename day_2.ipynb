{
  "nbformat": 4,
  "nbformat_minor": 0,
  "metadata": {
    "colab": {
      "provenance": []
    },
    "kernelspec": {
      "name": "python3",
      "display_name": "Python 3"
    },
    "language_info": {
      "name": "python"
    }
  },
  "cells": [
    {
      "cell_type": "code",
      "execution_count": null,
      "metadata": {
        "colab": {
          "base_uri": "https://localhost:8080/"
        },
        "id": "EBwRWm33wlPf",
        "outputId": "7be78b45-8d95-4458-fbb6-40b0864620d4"
      },
      "outputs": [
        {
          "output_type": "stream",
          "name": "stdout",
          "text": [
            "enter a name:lakshmi kanth koppu\n",
            "enter your Weight:70\n",
            "enter your marks:100\n",
            "lakshmi kanth koppu 70.0 100\n"
          ]
        }
      ],
      "source": [
        "name = input(\"enter a name:\")\n",
        "weight = float(input(\"enter your Weight:\"))\n",
        "marks = int(input(\"enter your marks:\"))\n",
        "print(name,weight,marks)"
      ]
    },
    {
      "cell_type": "code",
      "source": [
        "import numpy as np\n",
        "forces=np.array([10,20,30,40])\n",
        "lengths=np.array([2,4,6,8])\n",
        "moments=forces*lengths\n",
        "print(\"moments:\",moments)"
      ],
      "metadata": {
        "colab": {
          "base_uri": "https://localhost:8080/"
        },
        "id": "Tokxko0tx-xg",
        "outputId": "84c7dc76-c7d6-4c7f-b8dd-6b6261ffdd1c"
      },
      "execution_count": null,
      "outputs": [
        {
          "output_type": "stream",
          "name": "stdout",
          "text": [
            "moments: [ 20  80 180 320]\n"
          ]
        }
      ]
    },
    {
      "cell_type": "code",
      "source": [
        "a=[10,20,30,40]\n",
        "b=[5,15,25,25,35]\n",
        "print(a.append(12))\n",
        "print(a)\n",
        "len(b)\n"
      ],
      "metadata": {
        "colab": {
          "base_uri": "https://localhost:8080/"
        },
        "id": "LGVjFi_Ey4GZ",
        "outputId": "e738a4fb-f43f-419d-de48-3096dbf8654e"
      },
      "execution_count": null,
      "outputs": [
        {
          "output_type": "stream",
          "name": "stdout",
          "text": [
            "None\n",
            "[10, 20, 30, 40, 12]\n"
          ]
        },
        {
          "output_type": "execute_result",
          "data": {
            "text/plain": [
              "5"
            ]
          },
          "metadata": {},
          "execution_count": 10
        }
      ]
    },
    {
      "cell_type": "code",
      "source": [],
      "metadata": {
        "id": "AJX3q_2p19sx"
      },
      "execution_count": null,
      "outputs": []
    }
  ]
}